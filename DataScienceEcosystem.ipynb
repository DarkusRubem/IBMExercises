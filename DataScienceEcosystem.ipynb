{
 "cells": [
  {
   "cell_type": "markdown",
   "id": "f39cc51e-160d-476c-9f49-2d955a9d0038",
   "metadata": {},
   "source": [
    "# Data Science Tools and Ecosystem"
   ]
  },
  {
   "cell_type": "markdown",
   "id": "3348d44f-aa0e-4167-ae48-231aee47c41d",
   "metadata": {},
   "source": [
    "In this notebook, Data Science Tools and Ecosystem are summarized."
   ]
  },
  {
   "cell_type": "markdown",
   "id": "ee41aae1-8f9d-498f-a9c0-0756758ce7fb",
   "metadata": {},
   "source": [
    "**Objectives:**\n",
    "\n",
    "- Popular languages used in Data Science\n",
    "- Commonly used libraries in Data Science\n",
    "- Popular Data Science Tools\n",
    "- Usage of arithmetic expressions"
   ]
  },
  {
   "cell_type": "markdown",
   "id": "fb91302f-c804-4d74-905a-5f825af2ac10",
   "metadata": {},
   "source": [
    "Some of the popular languages that Data Scientists use are:\n",
    "\n",
    "1. Python\n",
    "2. R\n",
    "3. Julia\n",
    "4. Scala"
   ]
  },
  {
   "cell_type": "markdown",
   "id": "09982986-4e8c-470c-b92e-bedb960d880e",
   "metadata": {},
   "source": [
    "Some of the commonly used libraries used by Data Scientists include:\n",
    "\n",
    "1. Pandas\n",
    "2. Scikit-Learn\n",
    "3. Matplotlib\n",
    "4. Seaborn"
   ]
  },
  {
   "cell_type": "markdown",
   "id": "88ba4f1f-f070-4ce8-8f36-0b0e1d6a6bf7",
   "metadata": {},
   "source": [
    "|Data Science Tools|\n",
    "|------------------|\n",
    "|RStudio           |\n",
    "|Apache Pyspark    |\n",
    "|Apache Hadoop     |"
   ]
  },
  {
   "cell_type": "markdown",
   "id": "1b7c3b59-0da1-4b59-b61a-f3b297edf73e",
   "metadata": {},
   "source": [
    "### Below are a few examples of evaluating arithmetic expressions in Python:"
   ]
  },
  {
   "cell_type": "code",
   "execution_count": 13,
   "id": "f52c83bb-7d22-44eb-ac87-9e9ad94d2c6a",
   "metadata": {},
   "outputs": [
    {
     "data": {
      "text/plain": [
       "17"
      ]
     },
     "execution_count": 13,
     "metadata": {},
     "output_type": "execute_result"
    }
   ],
   "source": [
    "# This a simple arithmetic expression to mutiply then add integers\n",
    "(3*4)+5"
   ]
  },
  {
   "cell_type": "code",
   "execution_count": 15,
   "id": "c0fdde46-d636-450d-a216-ece7c2b3f767",
   "metadata": {},
   "outputs": [
    {
     "data": {
      "text/plain": [
       "3.3333333333333335"
      ]
     },
     "execution_count": 15,
     "metadata": {},
     "output_type": "execute_result"
    }
   ],
   "source": [
    "# This will convert 200 minutes to hours by diving by 60\n",
    "200/60"
   ]
  },
  {
   "cell_type": "markdown",
   "id": "46fd49a4-0ea8-4d9c-b421-da1406ef9929",
   "metadata": {},
   "source": [
    "## Author\n",
    "Rubem Manoel Moraes Barbosa"
   ]
  },
  {
   "cell_type": "code",
   "execution_count": null,
   "id": "d831ec33-e629-49d1-9617-c36eb187317e",
   "metadata": {},
   "outputs": [],
   "source": []
  }
 ],
 "metadata": {
  "kernelspec": {
   "display_name": "Python 3 (ipykernel)",
   "language": "python",
   "name": "python3"
  },
  "language_info": {
   "codemirror_mode": {
    "name": "ipython",
    "version": 3
   },
   "file_extension": ".py",
   "mimetype": "text/x-python",
   "name": "python",
   "nbconvert_exporter": "python",
   "pygments_lexer": "ipython3",
   "version": "3.11.7"
  }
 },
 "nbformat": 4,
 "nbformat_minor": 5
}
